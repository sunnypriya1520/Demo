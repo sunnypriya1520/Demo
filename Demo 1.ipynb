{
 "cells": [
  {
   "cell_type": "code",
   "execution_count": 1,
   "id": "a426629b",
   "metadata": {},
   "outputs": [
    {
     "name": "stdout",
     "output_type": "stream",
     "text": [
      "Hello world\n"
     ]
    }
   ],
   "source": [
    "print('Hello world')"
   ]
  },
  {
   "cell_type": "code",
   "execution_count": 3,
   "id": "cbefff4f",
   "metadata": {},
   "outputs": [
    {
     "name": "stdout",
     "output_type": "stream",
     "text": [
      "Pooja's computer\n"
     ]
    }
   ],
   "source": [
    "print(\"Pooja's computer\")"
   ]
  },
  {
   "cell_type": "code",
   "execution_count": 4,
   "id": "b77237b0",
   "metadata": {},
   "outputs": [
    {
     "name": "stdout",
     "output_type": "stream",
     "text": [
      "<class 'int'>\n"
     ]
    }
   ],
   "source": [
    "x = 10\n",
    "y= 20\n",
    "myname = 'sunny gupta'\n",
    "print(type(x))"
   ]
  },
  {
   "cell_type": "code",
   "execution_count": 6,
   "id": "9baf22eb",
   "metadata": {},
   "outputs": [
    {
     "name": "stdout",
     "output_type": "stream",
     "text": [
      "<class 'str'>\n"
     ]
    }
   ],
   "source": [
    "print(type(myname))"
   ]
  },
  {
   "cell_type": "code",
   "execution_count": 8,
   "id": "fb739e9a",
   "metadata": {},
   "outputs": [
    {
     "name": "stdout",
     "output_type": "stream",
     "text": [
      "10 20 sunny gupta\n"
     ]
    }
   ],
   "source": [
    "print(x,y, myname)"
   ]
  },
  {
   "cell_type": "code",
   "execution_count": 11,
   "id": "71ce085f",
   "metadata": {},
   "outputs": [
    {
     "name": "stdout",
     "output_type": "stream",
     "text": [
      "My name is sunny gupta\n"
     ]
    }
   ],
   "source": [
    "print('My name is', myname)"
   ]
  },
  {
   "cell_type": "code",
   "execution_count": null,
   "id": "b2b86658",
   "metadata": {},
   "outputs": [],
   "source": []
  }
 ],
 "metadata": {
  "kernelspec": {
   "display_name": "Python 3 (ipykernel)",
   "language": "python",
   "name": "python3"
  },
  "language_info": {
   "codemirror_mode": {
    "name": "ipython",
    "version": 3
   },
   "file_extension": ".py",
   "mimetype": "text/x-python",
   "name": "python",
   "nbconvert_exporter": "python",
   "pygments_lexer": "ipython3",
   "version": "3.9.12"
  }
 },
 "nbformat": 4,
 "nbformat_minor": 5
}
